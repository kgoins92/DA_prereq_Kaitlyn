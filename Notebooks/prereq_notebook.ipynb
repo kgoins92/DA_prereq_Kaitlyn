{
 "cells": [
  {
   "cell_type": "markdown",
   "id": "366f7ebc",
   "metadata": {},
   "source": [
    "I am Kaitlyn Goins. I am excited to learn more about the coding world and redo my basics as it has been years. I'm great at math, and also great at making typos, in addition to rage quitting when things don't go my way."
   ]
  },
  {
   "cell_type": "code",
   "execution_count": null,
   "id": "e52f3468",
   "metadata": {},
   "outputs": [],
   "source": [
    "num1 = float(input(\"Enter the first number: \"))\n",
    "num2 = float(input(\"Enter the second number: \"))\n",
    "\n",
    "sum_result = num1 + num2"
   ]
  }
 ],
 "metadata": {
  "language_info": {
   "name": "python"
  }
 },
 "nbformat": 4,
 "nbformat_minor": 5
}
